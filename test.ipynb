{
 "cells": [
  {
   "cell_type": "code",
   "execution_count": 5,
   "id": "f8f4362c-424d-4902-8553-fc45177ae457",
   "metadata": {},
   "outputs": [],
   "source": [
    "import helpers.riot as rt"
   ]
  },
  {
   "cell_type": "code",
   "execution_count": 7,
   "id": "9cf05657-c4bc-4ae8-ac86-ba1d3a5509fa",
   "metadata": {},
   "outputs": [],
   "source": [
    "fz_puuid = rt.get_puuid('fzpowder')"
   ]
  },
  {
   "cell_type": "code",
   "execution_count": 10,
   "id": "58e6b970-5a97-45a6-9c96-353fcc4b8ec1",
   "metadata": {},
   "outputs": [],
   "source": [
    "df = rt.last_n_match_details_df(fz_puuid, 1)"
   ]
  },
  {
   "cell_type": "code",
   "execution_count": 25,
   "id": "c003f199-4ab6-4a72-99ea-c4b10252bed6",
   "metadata": {},
   "outputs": [
    {
     "data": {
      "text/plain": [
       "0       SOLO\n",
       "1       NONE\n",
       "2    SUPPORT\n",
       "3      CARRY\n",
       "4       SOLO\n",
       "5      CARRY\n",
       "6       NONE\n",
       "7       SOLO\n",
       "8    SUPPORT\n",
       "9       SOLO\n",
       "Name: role, dtype: object"
      ]
     },
     "execution_count": 25,
     "metadata": {},
     "output_type": "execute_result"
    }
   ],
   "source": [
    "df['role']"
   ]
  },
  {
   "cell_type": "code",
   "execution_count": 23,
   "id": "baeb1dd8-bddc-4654-ac7d-22cd8c431307",
   "metadata": {},
   "outputs": [],
   "source": [
    "df['new_win'] = [ '✅' if x == True else '❌' for x in df['win']]"
   ]
  },
  {
   "cell_type": "code",
   "execution_count": 24,
   "id": "b5e07bf1-271e-44df-8f46-64d025d98fb7",
   "metadata": {},
   "outputs": [
    {
     "data": {
      "text/html": [
       "<div>\n",
       "<style scoped>\n",
       "    .dataframe tbody tr th:only-of-type {\n",
       "        vertical-align: middle;\n",
       "    }\n",
       "\n",
       "    .dataframe tbody tr th {\n",
       "        vertical-align: top;\n",
       "    }\n",
       "\n",
       "    .dataframe thead th {\n",
       "        text-align: right;\n",
       "    }\n",
       "</style>\n",
       "<table border=\"1\" class=\"dataframe\">\n",
       "  <thead>\n",
       "    <tr style=\"text-align: right;\">\n",
       "      <th></th>\n",
       "      <th>win</th>\n",
       "      <th>new_win</th>\n",
       "    </tr>\n",
       "  </thead>\n",
       "  <tbody>\n",
       "    <tr>\n",
       "      <th>0</th>\n",
       "      <td>True</td>\n",
       "      <td>✅</td>\n",
       "    </tr>\n",
       "    <tr>\n",
       "      <th>1</th>\n",
       "      <td>True</td>\n",
       "      <td>✅</td>\n",
       "    </tr>\n",
       "    <tr>\n",
       "      <th>2</th>\n",
       "      <td>True</td>\n",
       "      <td>✅</td>\n",
       "    </tr>\n",
       "    <tr>\n",
       "      <th>3</th>\n",
       "      <td>True</td>\n",
       "      <td>✅</td>\n",
       "    </tr>\n",
       "    <tr>\n",
       "      <th>4</th>\n",
       "      <td>True</td>\n",
       "      <td>✅</td>\n",
       "    </tr>\n",
       "    <tr>\n",
       "      <th>5</th>\n",
       "      <td>False</td>\n",
       "      <td>❌</td>\n",
       "    </tr>\n",
       "    <tr>\n",
       "      <th>6</th>\n",
       "      <td>False</td>\n",
       "      <td>❌</td>\n",
       "    </tr>\n",
       "    <tr>\n",
       "      <th>7</th>\n",
       "      <td>False</td>\n",
       "      <td>❌</td>\n",
       "    </tr>\n",
       "    <tr>\n",
       "      <th>8</th>\n",
       "      <td>False</td>\n",
       "      <td>❌</td>\n",
       "    </tr>\n",
       "    <tr>\n",
       "      <th>9</th>\n",
       "      <td>False</td>\n",
       "      <td>❌</td>\n",
       "    </tr>\n",
       "  </tbody>\n",
       "</table>\n",
       "</div>"
      ],
      "text/plain": [
       "     win new_win\n",
       "0   True       ✅\n",
       "1   True       ✅\n",
       "2   True       ✅\n",
       "3   True       ✅\n",
       "4   True       ✅\n",
       "5  False       ❌\n",
       "6  False       ❌\n",
       "7  False       ❌\n",
       "8  False       ❌\n",
       "9  False       ❌"
      ]
     },
     "execution_count": 24,
     "metadata": {},
     "output_type": "execute_result"
    }
   ],
   "source": [
    "df[['win','new_win']]"
   ]
  },
  {
   "cell_type": "code",
   "execution_count": null,
   "id": "66a5e2f7-292f-4d00-965e-cdb1c110ac04",
   "metadata": {},
   "outputs": [],
   "source": []
  }
 ],
 "metadata": {
  "kernelspec": {
   "display_name": "Python 3 (ipykernel)",
   "language": "python",
   "name": "python3"
  },
  "language_info": {
   "codemirror_mode": {
    "name": "ipython",
    "version": 3
   },
   "file_extension": ".py",
   "mimetype": "text/x-python",
   "name": "python",
   "nbconvert_exporter": "python",
   "pygments_lexer": "ipython3",
   "version": "3.10.8"
  }
 },
 "nbformat": 4,
 "nbformat_minor": 5
}
